{
 "cells": [
  {
   "cell_type": "markdown",
   "id": "26d9de63",
   "metadata": {},
   "source": [
    "\n",
    "<h1 style=\"font-size:30pt\"> Statistical Inference </h1><br/>\n",
    "<b> Author: </b> Emine Korkut <br/>\n",
    "<b> Date: </b> 21 January 2024 <br/>\n"
   ]
  },
  {
   "cell_type": "markdown",
   "id": "8d805ffe",
   "metadata": {},
   "source": [
    "# Table of Contents"
   ]
  },
  {
   "cell_type": "markdown",
   "id": "b1631c20",
   "metadata": {},
   "source": [
    "+ [1.Introduction to Hypothesis Testing](#intro)\n",
    "    + [1.1 What is Hypothesis Testing?](#hypothesis-testing)\n",
    "    + [1.2 Four Steps to Hypothesis Testing](#steps)\n",
    "      + [1.2.1 Defining Hyptoheses](#step1)\n",
    "      + [1.2.2 Assumption Check](#step2)\n",
    "      + [1.2.3 Selecting the Proper Test](#step3)\n",
    "      + [1.2.4 Decision and Conclusion](#step4)\n",
    "+ [2.Hypothesis Testing with Python](#code-part)\n",
    "    + [2.1 Import libraries](#libraries)\n",
    "    + [2.2 Assumption Check in Python](#assumption-check)\n",
    "      + [2.2.1 Normality Test](#normality-test)\n",
    "      + [2.2.2 Equal Variance](#equal-variance)\n",
    "+ [3.Parametric and Nonparametric Test Examples](#examples)\n",
    "    + [3.1 Parametric Tests](#parametric)\n",
    "      + [3.1.1 One-Sample T-Test](#one-sample-t-test)\n",
    "      + [3.1.2 Two-Sample T-Test](#two-sample-t-test)\n",
    "      + [3.1.3 Paired T-Test](#paired-t-test)\n",
    "      + [3.1.4 Anova Test](#anova-test)\n",
    "    + [3.2 Nonparametric Tests](#non-parametric)\n",
    "      + [3.2.1 Chi-Squared Test](#chi-squared-test)\n",
    "      + [3.2.2 Mann-Whitney U Test](#mann-whitney)\n",
    "      + [3.2.3 Kruskal Wallis H Test](#kruskal)\n",
    "    + [3.3  Regression](#regression)\n",
    "      + [3.3.1 Linear Regression](#lr)\n",
    "      + [3.3.2 Multiple Linear Regression](#mlr)\n"
   ]
  },
  {
   "cell_type": "markdown",
   "id": "04b2ae06",
   "metadata": {},
   "source": [
    "# 1.Introduction to Hypothesis Testing <a class=\"anchor\" id=\"intro\"></a>\n",
    "\n"
   ]
  },
  {
   "cell_type": "markdown",
   "id": "e49a092c",
   "metadata": {},
   "source": [
    "## 1.1 What is Hypothesis Testing? <a class=\"anchor\" id=\"hypothesis-testing\"></a>"
   ]
  },
  {
   "cell_type": "markdown",
   "id": "75bafa96",
   "metadata": {},
   "source": [
    "Hypothesis Testing is a type of statistical analysis in which you put your assumptions about a population parameter to test.\n",
    "In any hypothesis-testing problem, there are always two competing hypotheses under consideration:\n",
    "\n",
    "   1. **The Null Hypothesis** refers to the currently accepted hypothesis. We will test whether the value\n",
    "      stated in the null hypothesis is likely to be true. It is often denoted by $ H_{0}$\n",
    "\n",
    "   2. **The Alternate Hypothesis** refers to the new claim that we wish to validate. It is often denoted by $ H_{A}$\n",
    "\n",
    "## 1.2 Four Steps to Hypothesis Testing <a class=\"anchor\" id=\"steps\"></a>\n",
    "\n",
    "The method of hypothesis testing can be summarized in four steps:\n",
    "\n",
    "+ **Step 1** : Defining Hypotheses\n",
    "+ **Step 2** : Assumption Check\n",
    "+ **Step 3** : Selecting the Proper Test\n",
    "+ **Step 4** : Decision and Conclusion\n",
    "\n",
    "### 1.2.1 Defining Hypotheses <a class=\"anchor\" id=\"step1\"></a>\n",
    "At the Step 1, we should state our *null hypothesis* and *alternate hypothesis*. \n",
    "\n",
    "The alternative to the null hypothesis will look like one of the following three assertions:\n",
    "+  $ H_{A}$: $θ \\neq θ_{0}$ (in which case the null hypothesis is $θ = θ_{0}$)\n",
    "+  $ H_{A}$: $θ > θ_{0}$ (in which case the null hypothesis is $θ ≤ θ_{0}$)\n",
    "+  $ H_{A}$: $θ < θ_{0}$ (in which case the null hypothesis is $θ ≥ θ_{0}$)\n",
    "\n",
    "### 1.2.2 Assumption Check <a class=\"anchor\" id=\"step2\"></a>\n",
    "At the Step 2, we should decide whether to use the **parametric** or **nonparametric** version of the test. In order to decide, we should check following assumptions:\n",
    "   + Assumption 1: Normally distributed\n",
    "   + Assumption 2: Equal Variance.\n",
    "   + Assumption 3: Independence.\n",
    "   + Assumption 4: No Outliers\n",
    "   \n",
    "If these assumptions are satisfied, we should choose a parametric test. If one of them is not satisfied, then we should choose nonparametric tests.\n",
    "### 1.2.3 Selecting the Proper Test <a class=\"anchor\" id=\"step3\"></a>\n",
    "At the Step 3, we should decide appropriate test after we decided that it is parametric or nonparametric. While we are doing this, it is essential to analyze how many groups are being compared and whether the data are paired or not. \n",
    "+ **A paired data** is used when we have two measurements or observations for the same subjects or units, and you want to compare their means. For example, comparing the blood pressure of patients before treatment and after the treatment. \n",
    "+ **An unpaired data** is used when you have two independent groups or conditions, and you want to compare their means. For example, comparing the heights of men and women.\n",
    "\n",
    "We can use the chart below for selecting and applying the proper test.\n",
    "\n",
    "<img src=\"test table.png\">\n",
    "\n",
    "### 1.2.4 Decision and Conclusion <a class=\"anchor\" id=\"step4\"></a>\n",
    "At the Step 4, if the probability of obtaining a sample mean is less than the signifigance level, then the decision is to reject the null hypothesis. If the probability of obtaining a sample mean is greater than the signifigance level, then the decision is to fail to reject the null hypothesis. \n",
    "To sum up, there are two possible conclusions: \n",
    "   1. Reject $ H_{0}$.\n",
    "   2. Fail to reject $ H_{0}$.\n",
    "\n",
    "\n",
    "\n",
    "\n",
    "\n",
    "\n"
   ]
  },
  {
   "cell_type": "markdown",
   "id": "08be736d",
   "metadata": {},
   "source": [
    "# 2.Hypothesis Testing with Python <a class=\"anchor\" id=\"code-part\"></a>"
   ]
  },
  {
   "cell_type": "markdown",
   "id": "4f0e986f",
   "metadata": {},
   "source": [
    "## 2.1 Import the libraries <a class=\"anchor\" id=\"libraries\"></a>"
   ]
  },
  {
   "cell_type": "code",
   "execution_count": 1,
   "id": "71effc45",
   "metadata": {
    "scrolled": true
   },
   "outputs": [
    {
     "name": "stdout",
     "output_type": "stream",
     "text": [
      "Requirement already satisfied: pandas in c:\\users\\lenovo\\anaconda3\\lib\\site-packages (2.0.3)\n",
      "Requirement already satisfied: python-dateutil>=2.8.2 in c:\\users\\lenovo\\anaconda3\\lib\\site-packages (from pandas) (2.8.2)\n",
      "Requirement already satisfied: pytz>=2020.1 in c:\\users\\lenovo\\anaconda3\\lib\\site-packages (from pandas) (2023.3.post1)\n",
      "Requirement already satisfied: tzdata>=2022.1 in c:\\users\\lenovo\\anaconda3\\lib\\site-packages (from pandas) (2023.3)\n",
      "Requirement already satisfied: numpy>=1.21.0 in c:\\users\\lenovo\\anaconda3\\lib\\site-packages (from pandas) (1.24.3)\n",
      "Requirement already satisfied: six>=1.5 in c:\\users\\lenovo\\anaconda3\\lib\\site-packages (from python-dateutil>=2.8.2->pandas) (1.16.0)\n",
      "Requirement already satisfied: numpy in c:\\users\\lenovo\\anaconda3\\lib\\site-packages (1.24.3)\n",
      "Requirement already satisfied: matplotlib in c:\\users\\lenovo\\anaconda3\\lib\\site-packages (3.7.2)\n",
      "Requirement already satisfied: contourpy>=1.0.1 in c:\\users\\lenovo\\anaconda3\\lib\\site-packages (from matplotlib) (1.0.5)\n",
      "Requirement already satisfied: cycler>=0.10 in c:\\users\\lenovo\\anaconda3\\lib\\site-packages (from matplotlib) (0.11.0)\n",
      "Requirement already satisfied: fonttools>=4.22.0 in c:\\users\\lenovo\\anaconda3\\lib\\site-packages (from matplotlib) (4.25.0)\n",
      "Requirement already satisfied: kiwisolver>=1.0.1 in c:\\users\\lenovo\\anaconda3\\lib\\site-packages (from matplotlib) (1.4.4)\n",
      "Requirement already satisfied: numpy>=1.20 in c:\\users\\lenovo\\anaconda3\\lib\\site-packages (from matplotlib) (1.24.3)\n",
      "Requirement already satisfied: packaging>=20.0 in c:\\users\\lenovo\\anaconda3\\lib\\site-packages (from matplotlib) (23.1)\n",
      "Requirement already satisfied: pillow>=6.2.0 in c:\\users\\lenovo\\anaconda3\\lib\\site-packages (from matplotlib) (9.4.0)\n",
      "Requirement already satisfied: pyparsing<3.1,>=2.3.1 in c:\\users\\lenovo\\anaconda3\\lib\\site-packages (from matplotlib) (3.0.9)\n",
      "Requirement already satisfied: python-dateutil>=2.7 in c:\\users\\lenovo\\anaconda3\\lib\\site-packages (from matplotlib) (2.8.2)\n",
      "Requirement already satisfied: six>=1.5 in c:\\users\\lenovo\\anaconda3\\lib\\site-packages (from python-dateutil>=2.7->matplotlib) (1.16.0)\n",
      "Requirement already satisfied: scipy in c:\\users\\lenovo\\anaconda3\\lib\\site-packages (1.11.1)\n",
      "Requirement already satisfied: numpy<1.28.0,>=1.21.6 in c:\\users\\lenovo\\anaconda3\\lib\\site-packages (from scipy) (1.24.3)\n"
     ]
    }
   ],
   "source": [
    "!pip install pandas\n",
    "!pip install numpy\n",
    "!pip install matplotlib\n",
    "!pip install scipy\n",
    "\n",
    "\n"
   ]
  },
  {
   "cell_type": "code",
   "execution_count": 2,
   "id": "a591a3a9",
   "metadata": {},
   "outputs": [],
   "source": [
    "import numpy as np\n",
    "import pandas as pd\n",
    "import matplotlib.pyplot as plt\n",
    "import scipy.stats\n",
    "from scipy import stats\n",
    "from scipy.stats import chi2_contingency\n",
    "from scipy.stats import mannwhitneyu\n",
    "from sklearn import linear_model #regression\n",
    "import seaborn as sns\n",
    "from statsmodels.formula.api import ols\n",
    "import statsmodels.api as sm\n"
   ]
  },
  {
   "cell_type": "markdown",
   "id": "8417521e",
   "metadata": {},
   "source": [
    "## 2.2 Assumption Check in Python <a class=\"anchor\" id=\"assumption-check-python\"></a>\n"
   ]
  },
  {
   "cell_type": "markdown",
   "id": "eb31d3ad",
   "metadata": {},
   "source": [
    "### 2.2.1 Normality Test <a class=\"anchor\" id=\"normality-test\"></a>\n",
    "\n",
    " $ H_{0} = $The data follows a normal distribution.\n",
    "\n",
    " $ H_{A} = $The data does not follow a normal distribution."
   ]
  },
  {
   "cell_type": "code",
   "execution_count": 3,
   "id": "9bc23e0b",
   "metadata": {},
   "outputs": [],
   "source": [
    "# Shapiro-Wilk’s W test\n",
    "def check_normality(data):\n",
    "    test_stat_normality, p_value_normality=stats.shapiro(data)\n",
    "    print(\"p value:%.4f\" % p_value_normality)\n",
    "    if p_value_normality <0.05:\n",
    "        print(\"Reject null hypothesis >> The data is not normally distributed\")\n",
    "    else:\n",
    "        print(\"Fail to reject null hypothesis >> The data is normally distributed\")"
   ]
  },
  {
   "cell_type": "markdown",
   "id": "1fd92251",
   "metadata": {},
   "source": [
    "### 2.2.2 Equal Variance <a class=\"anchor\" id=\"equal-variance\"></a>\n",
    " $ H_{0} = $The variance of the samples are equal.\n",
    "\n",
    " $ H_{A} = $The variance of the samples are not equal."
   ]
  },
  {
   "cell_type": "code",
   "execution_count": 4,
   "id": "02aaafc3",
   "metadata": {},
   "outputs": [],
   "source": [
    "# Levene’s test\n",
    "def check_variance_homogeneity(group1, group2):\n",
    "    test_stat_var, p_value_var= stats.levene(group1,group2)\n",
    "    print(\"p value:%.4f\" % p_value_var)\n",
    "    if p_value_var <0.05:\n",
    "        print(\"Reject null hypothesis >> The variances of the samples are different.\")\n",
    "    else:\n",
    "        print(\"Fail to reject null hypothesis >> The variances of the samples are same.\")"
   ]
  },
  {
   "cell_type": "markdown",
   "id": "6f101e0c",
   "metadata": {},
   "source": [
    "#### Example of Normality Test and Equal Variance Check "
   ]
  },
  {
   "cell_type": "code",
   "execution_count": 5,
   "id": "3fa68a02",
   "metadata": {
    "scrolled": true
   },
   "outputs": [
    {
     "name": "stdout",
     "output_type": "stream",
     "text": [
      "p value:0.1542\n",
      "Fail to reject null hypothesis >> The data is normally distributed\n",
      "p value:0.2495\n",
      "Fail to reject null hypothesis >> The data is normally distributed\n",
      "p value:0.8597\n",
      "Fail to reject null hypothesis >> The variances of the samples are same.\n"
     ]
    }
   ],
   "source": [
    "\n",
    "sample1 = np.array([0.911, 0.923, 0.789, 0.771, 0.497, 0.196, 0.101])\n",
    "sample2 = np.array([0.721, 0.923, 0.769, 0.781, 0.497, 0.196, 0.121])\n",
    "check_normality(sample1)\n",
    "check_normality(sample2)\n",
    "check_variance_homogeneity(sample1,sample2)"
   ]
  },
  {
   "cell_type": "markdown",
   "id": "8f780cc0",
   "metadata": {},
   "source": [
    "# 3. Parametric and Nonparametric Test Examples <a class=\"anchor\" id=\"examples\"></a>\n",
    "\n",
    "+ Parametric tests compare **means** and addition substraction eligible. It should be normal distrubition and continues data. Homogeneous variance.\n",
    "     + One-Sample T-test\n",
    "     + Two-Sample T-Test\n",
    "     + Paired T-Test\n",
    "     + Anova Test\n",
    "\n",
    "+ Non-parametric tests compare **medians**, not eligible addition. For example categoric variables. Contradicts with normality discrete data. Non-homogeneous variance.\n",
    "\n",
    "     + Chi-Square Test\n",
    "     + Mann-Whitney U Test\n",
    "     "
   ]
  },
  {
   "cell_type": "markdown",
   "id": "7a7d4a9b",
   "metadata": {},
   "source": [
    "## 3.1 Parametric Tests <a class=\"anchor\" id=\"parametric\"></a>"
   ]
  },
  {
   "cell_type": "markdown",
   "id": "ab84bae9",
   "metadata": {},
   "source": [
    "### 3.1.1 One-Sample T-Test <a class=\"anchor\" id=\"one-sample-t-test\"></a>\n",
    "One sample T-test is used to compare the population mean to a sample.\n",
    "\n",
    "#####  EXAMPLE\n",
    "We have the potato yield from 12 different farms. We know that the standard potato yield for the given variety is $µ=20$.\n",
    "\n",
    "    potato_yield = [21.5, 24.5, 18.5, 17.2, 14.5, 23.2, 22.1, 20.5, 19.4, 18.1, 24.1, 18.5]\n",
    "\n",
    "Test if the potato yield from these farms is significantly better than the standard yield.\n",
    "\n",
    "###### Step 1 : Defining Hypotheses\n",
    "\n",
    " $ H_{0}: μ=20 $ Potato yield from these farms is equal to the standard yield.\n",
    "\n",
    " $ H_{A}: μ>20 $ Potato yield from these farms is significantly better than the standard yield.\n",
    " \n",
    "###### Step 2 : Assumption Check\n",
    "\n"
   ]
  },
  {
   "cell_type": "code",
   "execution_count": 6,
   "id": "15d00ac4",
   "metadata": {},
   "outputs": [
    {
     "name": "stdout",
     "output_type": "stream",
     "text": [
      "p value:0.8636\n",
      "Fail to reject null hypothesis >> The data is normally distributed\n"
     ]
    }
   ],
   "source": [
    "potato_yield = [21.5, 24.5, 18.5, 17.2, 14.5, 23.2, 22.1, 20.5, 19.4, 18.1, 24.1, 18.5]\n",
    "check_normality(potato_yield)\n"
   ]
  },
  {
   "cell_type": "markdown",
   "id": "fd48aaec",
   "metadata": {},
   "source": [
    "###### Step 3 : Selecting Proper Test\n",
    "Since it is normally distributed, it is parametric. And since we have only one sample, we should apply **One-Sample T-Test**."
   ]
  },
  {
   "cell_type": "code",
   "execution_count": 7,
   "id": "a727cc1b",
   "metadata": {
    "scrolled": false
   },
   "outputs": [
    {
     "name": "stdout",
     "output_type": "stream",
     "text": [
      "T-statistic: 0.2006562773994862\n",
      "P-value: 0.8446291893053613\n",
      "One-sided p-value: 0.4223145946526807\n",
      "Fail to reject the null hypothesis.\n"
     ]
    }
   ],
   "source": [
    "#data\n",
    "potato_yield = [21.5, 24.5, 18.5, 17.2, 14.5, 23.2, 22.1, 20.5, 19.4, 18.1, 24.1, 18.5]\n",
    "standard_yield = 20\n",
    "\n",
    "#one-sample t-test\n",
    "t_statistic, p_value = stats.ttest_1samp(potato_yield, standard_yield)\n",
    "\n",
    "#results\n",
    "print(f'T-statistic: {t_statistic}')\n",
    "print(f'P-value: {p_value}')\n",
    "print(f'One-sided p-value: {p_value/2}')\n",
    "      \n",
    "#check significance\n",
    "alpha = 0.05\n",
    "if p_value/2 < alpha: #since hypothesis testing is one-sided, p-value divided by 2\n",
    "    print(\"Reject the null hypothesis.\")\n",
    "else:\n",
    "    print(\"Fail to reject the null hypothesis.\")"
   ]
  },
  {
   "cell_type": "markdown",
   "id": "67ad3a3a",
   "metadata": {},
   "source": [
    "##### Step 4: Decision and Conclusion\n",
    "Since one-sided p-value is equal to 0.4223145946526807 which is greater than the signifigance level $ \\alpha = 0.05 $, we **fail to reject the null hypothesis** and there is enough evidence to say that potato yield from these farms is equal to the standard yield.\n"
   ]
  },
  {
   "cell_type": "markdown",
   "id": "d5c69f84",
   "metadata": {},
   "source": [
    "### 3.1.2 Two-Sample T-Test <a class=\"anchor\" id=\"two-sample-t-test\"></a>\n",
    "Two sample T-test is used to compare two samples"
   ]
  },
  {
   "cell_type": "markdown",
   "id": "982b1245",
   "metadata": {},
   "source": [
    "##### EXAMPLE\n",
    "Compare the effectiveness of ammonium chloride and urea, on the grain yield of paddy, an experiment was conducted. "
   ]
  },
  {
   "cell_type": "code",
   "execution_count": 8,
   "id": "138778b9",
   "metadata": {},
   "outputs": [],
   "source": [
    "ammonium_chloride = np.array([13.4,10.9,11.2,11.8,14,15.3,14.2,12.6,17,16.2,16.5,15.7])\n",
    "urea = np.array([2,11.7,10.7,11.2,14.8,14.4,13.9,13.7,16.9,16,15.6,16])"
   ]
  },
  {
   "cell_type": "markdown",
   "id": "8856156e",
   "metadata": {},
   "source": [
    "##### Step 1 : Defining Hypotheses\n",
    " $ H_{0}: μ_{1} = μ_{2} $ The effect of ammonium chloride and urea on grain yield of paddy are equal \n",
    "\n",
    " $ H_{A}: μ_{1} \\neq μ_{2} $ The effect of ammonium chloride and urea on grain yield of paddy is not equal "
   ]
  },
  {
   "cell_type": "markdown",
   "id": "e135ab39",
   "metadata": {},
   "source": [
    "###### Step 2 : Assumption Check\n"
   ]
  },
  {
   "cell_type": "code",
   "execution_count": 9,
   "id": "2ebe6f6f",
   "metadata": {},
   "outputs": [
    {
     "name": "stdout",
     "output_type": "stream",
     "text": [
      "p value:0.5086\n",
      "Fail to reject null hypothesis >> The data is normally distributed\n",
      "p value:0.0058\n",
      "Reject null hypothesis >> The data is not normally distributed\n"
     ]
    }
   ],
   "source": [
    "check_normality(ammonium_chloride)\n",
    "check_normality(urea)"
   ]
  },
  {
   "cell_type": "code",
   "execution_count": 10,
   "id": "240983bd",
   "metadata": {},
   "outputs": [
    {
     "name": "stdout",
     "output_type": "stream",
     "text": [
      "p value:0.4273\n",
      "Fail to reject null hypothesis >> The variances of the samples are same.\n"
     ]
    }
   ],
   "source": [
    "check_variance_homogeneity(ammonium_chloride,urea)\n"
   ]
  },
  {
   "cell_type": "markdown",
   "id": "8619ea9b",
   "metadata": {},
   "source": [
    "Since it satisfies the normality and homogenity of variance, it is a parametric test.\n"
   ]
  },
  {
   "cell_type": "markdown",
   "id": "8ec2e8a5",
   "metadata": {},
   "source": [
    "###### Step 3 : Selecting Proper Test\n",
    "Since it is parametric and there are two sample, we need to choose **Two-sample T-test**."
   ]
  },
  {
   "cell_type": "code",
   "execution_count": 11,
   "id": "b601dcb2",
   "metadata": {},
   "outputs": [
    {
     "data": {
      "text/plain": [
       "TtestResult(statistic=0.756390039020164, pvalue=0.4574393176187519, df=22.0)"
      ]
     },
     "execution_count": 11,
     "metadata": {},
     "output_type": "execute_result"
    }
   ],
   "source": [
    "#two-sample t-test\n",
    "scipy.stats.ttest_ind(ammonium_chloride, urea)"
   ]
  },
  {
   "cell_type": "markdown",
   "id": "3f35e1f7",
   "metadata": {},
   "source": [
    "##### Step 4: Decision and Conclusion\n",
    "Since p-value is 0.4574393176187519 which is greater than $ \\alpha = 0.05 $ we **fail to reject the null hypthesis** and there is enough evidence to say that the effect of ammonium chloride and urea on grain yield of paddy are equal"
   ]
  },
  {
   "cell_type": "markdown",
   "id": "fa183336",
   "metadata": {},
   "source": [
    "### 3.1.3 Paired T-Test <a class=\"anchor\" id=\"paired-t-test\"></a>\n",
    "W are interested in comparing the mean measurement between two groups in which each observation in one sample can be paired with an observation in the other sample.\n",
    "\n",
    "##### EXAMPLE\n",
    "Suppose we want to know whether or not a certain training program is able to increase the max vertical jump (in inches) of college basketball players.\n",
    "\n",
    "To test this, we may recruit a simple random sample of 20 college basketball players and measure each of their max vertical jumps. Then, we may have each player use the training program for one month and then measure their max vertical jump again at the end of the month.\n",
    "\n",
    "<img src=\"paired-t-test.png\" width=\"300\">\n",
    "\n",
    "##### Step 1 : Defining Hypotheses\n",
    " $ H_{0}: μ_{1} = μ_{2} $ Training program is able to increase the max vertical jump.\n",
    "\n",
    " $ H_{A}: μ_{1} \\neq μ_{2} $ Training program is not able to increase the max vertical jump. "
   ]
  },
  {
   "cell_type": "markdown",
   "id": "1f5c5a16",
   "metadata": {},
   "source": [
    "###### Step 2 : Assumption Check\n"
   ]
  },
  {
   "cell_type": "code",
   "execution_count": 12,
   "id": "735a845c",
   "metadata": {},
   "outputs": [
    {
     "name": "stdout",
     "output_type": "stream",
     "text": [
      "p value:0.6845\n",
      "Fail to reject null hypothesis >> The data is normally distributed\n",
      "p value:0.1753\n",
      "Fail to reject null hypothesis >> The data is normally distributed\n",
      "p value:0.6307\n",
      "Fail to reject null hypothesis >> The variances of the samples are same.\n"
     ]
    }
   ],
   "source": [
    "before_training = [22, 20, 19, 24, 25, 25,28, 22, 30, 27, 24, 18, 16, 19, 19, 28, 24, 25, 25, 23]\n",
    "after_training = [24, 22, 19, 22, 28, 26, 28, 24, 30, 29, 25, 20, 17, 18, 18, 28, 26, 27, 27, 24]\n",
    "\n",
    "check_normality(before_training)\n",
    "check_normality(after_training)\n",
    "check_variance_homogeneity(before_training,after_training)"
   ]
  },
  {
   "cell_type": "markdown",
   "id": "dee377b5",
   "metadata": {},
   "source": [
    "Since they are normally distributed and their variance are equal, it is a parametric test."
   ]
  },
  {
   "cell_type": "markdown",
   "id": "22842254",
   "metadata": {},
   "source": [
    "###### Step 3 : Selecting Proper Test\n",
    "Since it is a parametric test and we are checking the same player's before and after treatment, it is a paired data. So, we need to use **Paired T-test**\n"
   ]
  },
  {
   "cell_type": "code",
   "execution_count": 13,
   "id": "b9797f32",
   "metadata": {},
   "outputs": [
    {
     "name": "stdout",
     "output_type": "stream",
     "text": [
      "T-statistic: -3.22617331116718\n",
      "P-value: 0.004445370704412229\n",
      "Reject the null hypothesis.\n"
     ]
    }
   ],
   "source": [
    "#paired t-test\n",
    "t_statistic, p_value = stats.ttest_rel(before_training,after_training)\n",
    "\n",
    "#results\n",
    "print(f'T-statistic: {t_statistic}')\n",
    "print(f'P-value: {p_value}')\n",
    "\n",
    "#check significance\n",
    "alpha = 0.05\n",
    "if p_value < alpha:\n",
    "    print(\"Reject the null hypothesis.\")\n",
    "else:\n",
    "    print(\"Fail to reject the null hypothesis.\")"
   ]
  },
  {
   "cell_type": "markdown",
   "id": "ffcad23c",
   "metadata": {},
   "source": [
    "##### Step 4: Decision and Conclusion\n",
    "Since the p-value is equal to 0.004445370704412229 which is less than our significance level $\\alpha = 0.05$, we **reject the null hypothesis**. We have sufficient evidence to say that the mean max vertical jump of players is different before and after participating in the training program."
   ]
  },
  {
   "cell_type": "markdown",
   "id": "cc90e3d5",
   "metadata": {},
   "source": [
    "### 3.1.4 Anova Test <a class=\"anchor\" id=\"anova-test\"></a>\n",
    "The analysis of variance or ANOVA is a statistical inference test that lets you compare multiple groups at the same time."
   ]
  },
  {
   "cell_type": "markdown",
   "id": "270ec2d8",
   "metadata": {},
   "source": [
    "##### EXAMPLE \n",
    "40 randomly chosen students from 3 different countries which are USA, UK, and Germany have participated in a 500m running competition and got their results with the means of $\\approx 74s,\\approx 88s,\\approx84s$, respectively. We want to determine if there is an actual difference between these different students groups regarding their middle-distance running performance or by pure chance if we happened to select better or worse performing students from other countries."
   ]
  },
  {
   "cell_type": "markdown",
   "id": "6bdba018",
   "metadata": {},
   "source": [
    "######  Data Preparation"
   ]
  },
  {
   "cell_type": "code",
   "execution_count": 14,
   "id": "1ddc0623",
   "metadata": {},
   "outputs": [
    {
     "name": "stdout",
     "output_type": "stream",
     "text": [
      "USA:  73.1\n",
      "UK:  87.9\n",
      "Germany:  84.0\n"
     ]
    },
    {
     "data": {
      "text/html": [
       "<div>\n",
       "<style scoped>\n",
       "    .dataframe tbody tr th:only-of-type {\n",
       "        vertical-align: middle;\n",
       "    }\n",
       "\n",
       "    .dataframe tbody tr th {\n",
       "        vertical-align: top;\n",
       "    }\n",
       "\n",
       "    .dataframe thead th {\n",
       "        text-align: right;\n",
       "    }\n",
       "</style>\n",
       "<table border=\"1\" class=\"dataframe\">\n",
       "  <thead>\n",
       "    <tr style=\"text-align: right;\">\n",
       "      <th></th>\n",
       "      <th>Country</th>\n",
       "      <th>Results</th>\n",
       "    </tr>\n",
       "  </thead>\n",
       "  <tbody>\n",
       "    <tr>\n",
       "      <th>0</th>\n",
       "      <td>USA</td>\n",
       "      <td>76.0</td>\n",
       "    </tr>\n",
       "    <tr>\n",
       "      <th>1</th>\n",
       "      <td>USA</td>\n",
       "      <td>73.4</td>\n",
       "    </tr>\n",
       "    <tr>\n",
       "      <th>2</th>\n",
       "      <td>USA</td>\n",
       "      <td>76.6</td>\n",
       "    </tr>\n",
       "    <tr>\n",
       "      <th>3</th>\n",
       "      <td>USA</td>\n",
       "      <td>80.1</td>\n",
       "    </tr>\n",
       "    <tr>\n",
       "      <th>4</th>\n",
       "      <td>USA</td>\n",
       "      <td>73.1</td>\n",
       "    </tr>\n",
       "    <tr>\n",
       "      <th>...</th>\n",
       "      <td>...</td>\n",
       "      <td>...</td>\n",
       "    </tr>\n",
       "    <tr>\n",
       "      <th>115</th>\n",
       "      <td>Germany</td>\n",
       "      <td>85.2</td>\n",
       "    </tr>\n",
       "    <tr>\n",
       "      <th>116</th>\n",
       "      <td>Germany</td>\n",
       "      <td>83.9</td>\n",
       "    </tr>\n",
       "    <tr>\n",
       "      <th>117</th>\n",
       "      <td>Germany</td>\n",
       "      <td>79.3</td>\n",
       "    </tr>\n",
       "    <tr>\n",
       "      <th>118</th>\n",
       "      <td>Germany</td>\n",
       "      <td>88.6</td>\n",
       "    </tr>\n",
       "    <tr>\n",
       "      <th>119</th>\n",
       "      <td>Germany</td>\n",
       "      <td>87.0</td>\n",
       "    </tr>\n",
       "  </tbody>\n",
       "</table>\n",
       "<p>120 rows × 2 columns</p>\n",
       "</div>"
      ],
      "text/plain": [
       "     Country  Results\n",
       "0        USA     76.0\n",
       "1        USA     73.4\n",
       "2        USA     76.6\n",
       "3        USA     80.1\n",
       "4        USA     73.1\n",
       "..       ...      ...\n",
       "115  Germany     85.2\n",
       "116  Germany     83.9\n",
       "117  Germany     79.3\n",
       "118  Germany     88.6\n",
       "119  Germany     87.0\n",
       "\n",
       "[120 rows x 2 columns]"
      ]
     },
     "execution_count": 14,
     "metadata": {},
     "output_type": "execute_result"
    }
   ],
   "source": [
    "np.random.seed(42)\n",
    "\n",
    "# create Artificial randomly distributed data representing students' running competition records\n",
    "# np.random.normal: for generating random numbers from a normal distribution.\n",
    "# loc: sets the mean (average) of the distribution.\n",
    "# scale:sets the standard deviation of the distribution.\n",
    "# size: number of random numbers to generate\n",
    "\n",
    "USA = np.random.normal(loc=74,scale=4,size=40)\n",
    "UK = np.random.normal(loc=88,scale=4,size=40)\n",
    "Germany = np.random.normal(loc=84,scale=4,size=40)\n",
    "\n",
    "# print mean results for each country\n",
    "for i in range(3):\n",
    "    print(['USA: ','UK: ','Germany: '][i],[USA,UK,Germany][i].mean().round(1))\n",
    "    \n",
    "# c reate Dataframes representing each student groups\n",
    "list_USA = []\n",
    "for i in range(40): list_USA.append('USA')\n",
    "df_USA = pd.DataFrame(data={'Country':list_USA,'Results':list(map(lambda x: x.round(1), USA))})\n",
    "\n",
    "list_UK = []\n",
    "for i in range(40): list_UK.append('UK')\n",
    "df_UK = pd.DataFrame(data={'Country':list_UK,'Results':list(map(lambda x: x.round(1), UK))})\n",
    "\n",
    "list_Germany = []\n",
    "for i in range(40): list_Germany.append('Germany')\n",
    "df_Germany = pd.DataFrame(data={'Country':list_Germany,'Results':list(map(lambda x: x.round(1), Germany))})\n",
    "\n",
    "#Concatenate the dataframes into one\n",
    "df_students = pd.concat([df_USA,df_UK,df_Germany],ignore_index=True)\n",
    "df_students"
   ]
  },
  {
   "cell_type": "code",
   "execution_count": 15,
   "id": "ccd97c6a",
   "metadata": {
    "scrolled": false
   },
   "outputs": [
    {
     "name": "stderr",
     "output_type": "stream",
     "text": [
      "C:\\Users\\Lenovo\\anaconda3\\Lib\\site-packages\\seaborn\\axisgrid.py:118: UserWarning: The figure layout has changed to tight\n",
      "  self._figure.tight_layout(*args, **kwargs)\n",
      "C:\\Users\\Lenovo\\anaconda3\\Lib\\site-packages\\seaborn\\axisgrid.py:118: UserWarning: The figure layout has changed to tight\n",
      "  self._figure.tight_layout(*args, **kwargs)\n"
     ]
    },
    {
     "data": {
      "text/plain": [
       "<seaborn.axisgrid.FacetGrid at 0x1f61f035450>"
      ]
     },
     "execution_count": 15,
     "metadata": {},
     "output_type": "execute_result"
    },
    {
     "data": {
      "image/png": "[encoded data removed]",
      "text/plain": [
       "<Figure size 1113.88x500 with 1 Axes>"
      ]
     },
     "metadata": {},
     "output_type": "display_data"
    },
    {
     "data": {
      "image/png": "[encoded data removed]",
      "text/plain": [
       "<Figure size 1113.88x500 with 1 Axes>"
      ]
     },
     "metadata": {},
     "output_type": "display_data"
    }
   ],
   "source": [
    "%matplotlib inline\n",
    "sns.displot(df_students,x='Results',hue='Country',kind='kde',height=5,aspect=2)\n",
    "sns.displot(df_students,x='Results',hue='Country',multiple='dodge',height=5,aspect=2)"
   ]
  },
  {
   "cell_type": "markdown",
   "id": "e750c17b",
   "metadata": {},
   "source": [
    "##### Step 1 : Defining Hypotheses\n",
    "$ H_{0}: μ_{1} = μ_{2} = μ_{3} $ There is no difference in the mean running performance between the USA, UK, and Germany.\n",
    "\n",
    "$ H_{A}: μ_{1} \\neq μ_{2} \\neq μ_{3}  $ There is a difference in the mean running performance between at least two countries.\n"
   ]
  },
  {
   "cell_type": "markdown",
   "id": "cbbf6a6c",
   "metadata": {},
   "source": [
    "###### Step 2 : Assumption Check\n"
   ]
  },
  {
   "cell_type": "code",
   "execution_count": 16,
   "id": "eff9b1ec",
   "metadata": {},
   "outputs": [
    {
     "name": "stdout",
     "output_type": "stream",
     "text": [
      "p value:0.6604\n",
      "Fail to reject null hypothesis >> The data is normally distributed\n",
      "p value:0.3709\n",
      "Fail to reject null hypothesis >> The data is normally distributed\n",
      "p value:0.3269\n",
      "Fail to reject null hypothesis >> The data is normally distributed\n",
      "p value:0.5200\n",
      "Fail to reject null hypothesis >> The variances of the samples are same.\n"
     ]
    }
   ],
   "source": [
    "check_normality(USA)\n",
    "check_normality(UK)\n",
    "check_normality(Germany)\n",
    "\n",
    "# Levene’s test for 3 groups\n",
    "def check_variance_homogeneity_for_3groups(group1, group2, group3):\n",
    "    test_stat_var, p_value_var= stats.levene(group1, group2, group3)\n",
    "    print(\"p value:%.4f\" % p_value_var)\n",
    "    if p_value_var <0.05:\n",
    "        print(\"Reject null hypothesis >> The variances of the samples are different.\")\n",
    "    else:\n",
    "        print(\"Fail to reject null hypothesis >> The variances of the samples are same.\")\n",
    "check_variance_homogeneity_for_3groups(USA,UK,Germany)"
   ]
  },
  {
   "cell_type": "markdown",
   "id": "613429aa",
   "metadata": {},
   "source": [
    "###### Step 3 : Selecting Proper Test\n",
    "Since it is satisfied the assumptions, it is parametric test and since there is more than two group, we should use **ANOVA** test. \n"
   ]
  },
  {
   "cell_type": "code",
   "execution_count": 17,
   "id": "2a450faf",
   "metadata": {},
   "outputs": [
    {
     "data": {
      "text/plain": [
       "F_onewayResult(statistic=169.69016461545252, pvalue=2.619680027521838e-35)"
      ]
     },
     "execution_count": 17,
     "metadata": {},
     "output_type": "execute_result"
    }
   ],
   "source": [
    "stats.f_oneway(df_students['Results'][df_students['Country']==\"UK\"],\n",
    "              df_students['Results'][df_students['Country']==\"Germany\"],\n",
    "              df_students['Results'][df_students['Country']==\"USA\"])\n"
   ]
  },
  {
   "cell_type": "code",
   "execution_count": 18,
   "id": "499a929e",
   "metadata": {},
   "outputs": [
    {
     "name": "stdout",
     "output_type": "stream",
     "text": [
      "             df      sum_sq      mean_sq           F        PR(>F)\n",
      "Country     2.0  4686.96200  2343.481000  169.690165  2.619680e-35\n",
      "Residual  117.0  1615.81125    13.810353         NaN           NaN\n"
     ]
    }
   ],
   "source": [
    "anova_students = ols('Results~Country',data=df_students).fit()\n",
    "# examine the anova table \n",
    "anova_table = sm.stats.anova_lm(anova_students, type=2)\n",
    "print(anova_table)"
   ]
  },
  {
   "cell_type": "markdown",
   "id": "a2f9a5b5",
   "metadata": {},
   "source": [
    "##### Step 4: Decision and Conclusion\n",
    "We reject $ H_{0}$ because p-value $ 2.6196800275221696e-35 < 0.05 $. We have significant evidence at 0.05 level the running race results of the students from three countries belong to different populations."
   ]
  },
  {
   "cell_type": "markdown",
   "id": "8247f67e",
   "metadata": {},
   "source": [
    "## 3.2 Nonparametric Tests <a class=\"anchor\" id=\"non-parametric\"></a>"
   ]
  },
  {
   "cell_type": "markdown",
   "id": "150bf27e",
   "metadata": {},
   "source": [
    " ### 3.2.1 Chi-Squared Test <a class=\"anchor\" id=\"chi-squared-test\"></a>"
   ]
  },
  {
   "cell_type": "markdown",
   "id": "f11f9f54",
   "metadata": {},
   "source": [
    "A Chi-square test is a hypothesis testing method. Two common Chi-square tests involve checking if observed frequencies in one or more categories match expected frequencies. If you have a single measurement variable, you use a Chi-square goodness of fit test. If you have two measurement variables, you use a Chi-square test of independence. "
   ]
  },
  {
   "cell_type": "markdown",
   "id": "bd65d8fc",
   "metadata": {},
   "source": [
    "##### Example\n",
    "The students data set consists of 8239 rows, each representing a particular student, and 16 columns corresponding to a variable/feature related to that particular student. Test iff there is an association between the variables gender and major, or in other words, we want to know if male students favour different study subjects compared to female students.\n",
    "######  Data Preparation"
   ]
  },
  {
   "cell_type": "code",
   "execution_count": 19,
   "id": "a6454fc5",
   "metadata": {
    "scrolled": true
   },
   "outputs": [
    {
     "data": {
      "text/html": [
       "<div>\n",
       "<style scoped>\n",
       "    .dataframe tbody tr th:only-of-type {\n",
       "        vertical-align: middle;\n",
       "    }\n",
       "\n",
       "    .dataframe tbody tr th {\n",
       "        vertical-align: top;\n",
       "    }\n",
       "\n",
       "    .dataframe thead th {\n",
       "        text-align: right;\n",
       "    }\n",
       "</style>\n",
       "<table border=\"1\" class=\"dataframe\">\n",
       "  <thead>\n",
       "    <tr style=\"text-align: right;\">\n",
       "      <th></th>\n",
       "      <th>stud.id</th>\n",
       "      <th>name</th>\n",
       "      <th>gender</th>\n",
       "      <th>age</th>\n",
       "      <th>height</th>\n",
       "      <th>weight</th>\n",
       "      <th>religion</th>\n",
       "      <th>nc.score</th>\n",
       "      <th>semester</th>\n",
       "      <th>major</th>\n",
       "      <th>minor</th>\n",
       "      <th>score1</th>\n",
       "      <th>score2</th>\n",
       "      <th>online.tutorial</th>\n",
       "      <th>graduated</th>\n",
       "      <th>salary</th>\n",
       "    </tr>\n",
       "  </thead>\n",
       "  <tbody>\n",
       "    <tr>\n",
       "      <th>1</th>\n",
       "      <td>833917</td>\n",
       "      <td>Gonzales, Christina</td>\n",
       "      <td>Female</td>\n",
       "      <td>19</td>\n",
       "      <td>160</td>\n",
       "      <td>64.8</td>\n",
       "      <td>Muslim</td>\n",
       "      <td>1.91</td>\n",
       "      <td>1st</td>\n",
       "      <td>Political Science</td>\n",
       "      <td>Social Sciences</td>\n",
       "      <td>NaN</td>\n",
       "      <td>NaN</td>\n",
       "      <td>0</td>\n",
       "      <td>0</td>\n",
       "      <td>NaN</td>\n",
       "    </tr>\n",
       "    <tr>\n",
       "      <th>2</th>\n",
       "      <td>898539</td>\n",
       "      <td>Lozano, T'Hani</td>\n",
       "      <td>Female</td>\n",
       "      <td>19</td>\n",
       "      <td>172</td>\n",
       "      <td>73.0</td>\n",
       "      <td>Other</td>\n",
       "      <td>1.56</td>\n",
       "      <td>2nd</td>\n",
       "      <td>Social Sciences</td>\n",
       "      <td>Mathematics and Statistics</td>\n",
       "      <td>NaN</td>\n",
       "      <td>NaN</td>\n",
       "      <td>0</td>\n",
       "      <td>0</td>\n",
       "      <td>NaN</td>\n",
       "    </tr>\n",
       "    <tr>\n",
       "      <th>3</th>\n",
       "      <td>379678</td>\n",
       "      <td>Williams, Hanh</td>\n",
       "      <td>Female</td>\n",
       "      <td>22</td>\n",
       "      <td>168</td>\n",
       "      <td>70.6</td>\n",
       "      <td>Protestant</td>\n",
       "      <td>1.24</td>\n",
       "      <td>3rd</td>\n",
       "      <td>Social Sciences</td>\n",
       "      <td>Mathematics and Statistics</td>\n",
       "      <td>45.0</td>\n",
       "      <td>46.0</td>\n",
       "      <td>0</td>\n",
       "      <td>0</td>\n",
       "      <td>NaN</td>\n",
       "    </tr>\n",
       "    <tr>\n",
       "      <th>4</th>\n",
       "      <td>807564</td>\n",
       "      <td>Nem, Denzel</td>\n",
       "      <td>Male</td>\n",
       "      <td>19</td>\n",
       "      <td>183</td>\n",
       "      <td>79.7</td>\n",
       "      <td>Other</td>\n",
       "      <td>1.37</td>\n",
       "      <td>2nd</td>\n",
       "      <td>Environmental Sciences</td>\n",
       "      <td>Mathematics and Statistics</td>\n",
       "      <td>NaN</td>\n",
       "      <td>NaN</td>\n",
       "      <td>0</td>\n",
       "      <td>0</td>\n",
       "      <td>NaN</td>\n",
       "    </tr>\n",
       "    <tr>\n",
       "      <th>5</th>\n",
       "      <td>383291</td>\n",
       "      <td>Powell, Heather</td>\n",
       "      <td>Female</td>\n",
       "      <td>21</td>\n",
       "      <td>175</td>\n",
       "      <td>71.4</td>\n",
       "      <td>Catholic</td>\n",
       "      <td>1.46</td>\n",
       "      <td>1st</td>\n",
       "      <td>Environmental Sciences</td>\n",
       "      <td>Mathematics and Statistics</td>\n",
       "      <td>NaN</td>\n",
       "      <td>NaN</td>\n",
       "      <td>0</td>\n",
       "      <td>0</td>\n",
       "      <td>NaN</td>\n",
       "    </tr>\n",
       "    <tr>\n",
       "      <th>...</th>\n",
       "      <td>...</td>\n",
       "      <td>...</td>\n",
       "      <td>...</td>\n",
       "      <td>...</td>\n",
       "      <td>...</td>\n",
       "      <td>...</td>\n",
       "      <td>...</td>\n",
       "      <td>...</td>\n",
       "      <td>...</td>\n",
       "      <td>...</td>\n",
       "      <td>...</td>\n",
       "      <td>...</td>\n",
       "      <td>...</td>\n",
       "      <td>...</td>\n",
       "      <td>...</td>\n",
       "      <td>...</td>\n",
       "    </tr>\n",
       "    <tr>\n",
       "      <th>8235</th>\n",
       "      <td>818044</td>\n",
       "      <td>Her, Joshua</td>\n",
       "      <td>Male</td>\n",
       "      <td>22</td>\n",
       "      <td>181</td>\n",
       "      <td>79.1</td>\n",
       "      <td>Protestant</td>\n",
       "      <td>2.91</td>\n",
       "      <td>6th</td>\n",
       "      <td>Environmental Sciences</td>\n",
       "      <td>Social Sciences</td>\n",
       "      <td>73.0</td>\n",
       "      <td>71.0</td>\n",
       "      <td>0</td>\n",
       "      <td>1</td>\n",
       "      <td>36750.087135</td>\n",
       "    </tr>\n",
       "    <tr>\n",
       "      <th>8236</th>\n",
       "      <td>560166</td>\n",
       "      <td>Reid, Jose</td>\n",
       "      <td>Male</td>\n",
       "      <td>23</td>\n",
       "      <td>178</td>\n",
       "      <td>72.6</td>\n",
       "      <td>Catholic</td>\n",
       "      <td>2.03</td>\n",
       "      <td>2nd</td>\n",
       "      <td>Environmental Sciences</td>\n",
       "      <td>Mathematics and Statistics</td>\n",
       "      <td>NaN</td>\n",
       "      <td>NaN</td>\n",
       "      <td>0</td>\n",
       "      <td>0</td>\n",
       "      <td>NaN</td>\n",
       "    </tr>\n",
       "    <tr>\n",
       "      <th>8237</th>\n",
       "      <td>380174</td>\n",
       "      <td>Villa, Raechelle</td>\n",
       "      <td>Female</td>\n",
       "      <td>20</td>\n",
       "      <td>169</td>\n",
       "      <td>67.7</td>\n",
       "      <td>Other</td>\n",
       "      <td>3.72</td>\n",
       "      <td>3rd</td>\n",
       "      <td>Environmental Sciences</td>\n",
       "      <td>Economics and Finance</td>\n",
       "      <td>77.0</td>\n",
       "      <td>75.0</td>\n",
       "      <td>1</td>\n",
       "      <td>0</td>\n",
       "      <td>NaN</td>\n",
       "    </tr>\n",
       "    <tr>\n",
       "      <th>8238</th>\n",
       "      <td>540967</td>\n",
       "      <td>Ngo, Preston</td>\n",
       "      <td>Male</td>\n",
       "      <td>23</td>\n",
       "      <td>195</td>\n",
       "      <td>98.6</td>\n",
       "      <td>Other</td>\n",
       "      <td>2.74</td>\n",
       "      <td>4th</td>\n",
       "      <td>Social Sciences</td>\n",
       "      <td>Political Science</td>\n",
       "      <td>50.0</td>\n",
       "      <td>46.0</td>\n",
       "      <td>1</td>\n",
       "      <td>1</td>\n",
       "      <td>40112.041834</td>\n",
       "    </tr>\n",
       "    <tr>\n",
       "      <th>8239</th>\n",
       "      <td>413207</td>\n",
       "      <td>Bernhard, Estela</td>\n",
       "      <td>Female</td>\n",
       "      <td>19</td>\n",
       "      <td>170</td>\n",
       "      <td>69.0</td>\n",
       "      <td>Muslim</td>\n",
       "      <td>3.29</td>\n",
       "      <td>&gt;6th</td>\n",
       "      <td>Political Science</td>\n",
       "      <td>Biology</td>\n",
       "      <td>47.0</td>\n",
       "      <td>59.0</td>\n",
       "      <td>1</td>\n",
       "      <td>1</td>\n",
       "      <td>45900.134459</td>\n",
       "    </tr>\n",
       "  </tbody>\n",
       "</table>\n",
       "<p>8239 rows × 16 columns</p>\n",
       "</div>"
      ],
      "text/plain": [
       "      stud.id                 name  gender  age  height  weight    religion  \\\n",
       "1      833917  Gonzales, Christina  Female   19     160    64.8      Muslim   \n",
       "2      898539       Lozano, T'Hani  Female   19     172    73.0       Other   \n",
       "3      379678       Williams, Hanh  Female   22     168    70.6  Protestant   \n",
       "4      807564          Nem, Denzel    Male   19     183    79.7       Other   \n",
       "5      383291      Powell, Heather  Female   21     175    71.4    Catholic   \n",
       "...       ...                  ...     ...  ...     ...     ...         ...   \n",
       "8235   818044          Her, Joshua    Male   22     181    79.1  Protestant   \n",
       "8236   560166           Reid, Jose    Male   23     178    72.6    Catholic   \n",
       "8237   380174     Villa, Raechelle  Female   20     169    67.7       Other   \n",
       "8238   540967         Ngo, Preston    Male   23     195    98.6       Other   \n",
       "8239   413207     Bernhard, Estela  Female   19     170    69.0      Muslim   \n",
       "\n",
       "      nc.score semester                   major                       minor  \\\n",
       "1         1.91      1st       Political Science             Social Sciences   \n",
       "2         1.56      2nd         Social Sciences  Mathematics and Statistics   \n",
       "3         1.24      3rd         Social Sciences  Mathematics and Statistics   \n",
       "4         1.37      2nd  Environmental Sciences  Mathematics and Statistics   \n",
       "5         1.46      1st  Environmental Sciences  Mathematics and Statistics   \n",
       "...        ...      ...                     ...                         ...   \n",
       "8235      2.91      6th  Environmental Sciences             Social Sciences   \n",
       "8236      2.03      2nd  Environmental Sciences  Mathematics and Statistics   \n",
       "8237      3.72      3rd  Environmental Sciences       Economics and Finance   \n",
       "8238      2.74      4th         Social Sciences           Political Science   \n",
       "8239      3.29     >6th       Political Science                     Biology   \n",
       "\n",
       "      score1  score2  online.tutorial  graduated        salary  \n",
       "1        NaN     NaN                0          0           NaN  \n",
       "2        NaN     NaN                0          0           NaN  \n",
       "3       45.0    46.0                0          0           NaN  \n",
       "4        NaN     NaN                0          0           NaN  \n",
       "5        NaN     NaN                0          0           NaN  \n",
       "...      ...     ...              ...        ...           ...  \n",
       "8235    73.0    71.0                0          1  36750.087135  \n",
       "8236     NaN     NaN                0          0           NaN  \n",
       "8237    77.0    75.0                1          0           NaN  \n",
       "8238    50.0    46.0                1          1  40112.041834  \n",
       "8239    47.0    59.0                1          1  45900.134459  \n",
       "\n",
       "[8239 rows x 16 columns]"
      ]
     },
     "execution_count": 19,
     "metadata": {},
     "output_type": "execute_result"
    }
   ],
   "source": [
    "students = pd.read_csv(\"students.csv\")\n",
    "students"
   ]
  },
  {
   "cell_type": "code",
   "execution_count": 20,
   "id": "8a08093a",
   "metadata": {},
   "outputs": [
    {
     "data": {
      "text/html": [
       "<div>\n",
       "<style scoped>\n",
       "    .dataframe tbody tr th:only-of-type {\n",
       "        vertical-align: middle;\n",
       "    }\n",
       "\n",
       "    .dataframe tbody tr th {\n",
       "        vertical-align: top;\n",
       "    }\n",
       "\n",
       "    .dataframe thead th {\n",
       "        text-align: right;\n",
       "    }\n",
       "</style>\n",
       "<table border=\"1\" class=\"dataframe\">\n",
       "  <thead>\n",
       "    <tr style=\"text-align: right;\">\n",
       "      <th>gender</th>\n",
       "      <th>Female</th>\n",
       "      <th>Male</th>\n",
       "    </tr>\n",
       "    <tr>\n",
       "      <th>major</th>\n",
       "      <th></th>\n",
       "      <th></th>\n",
       "    </tr>\n",
       "  </thead>\n",
       "  <tbody>\n",
       "    <tr>\n",
       "      <th>Biology</th>\n",
       "      <td>102</td>\n",
       "      <td>66</td>\n",
       "    </tr>\n",
       "    <tr>\n",
       "      <th>Economics and Finance</th>\n",
       "      <td>53</td>\n",
       "      <td>82</td>\n",
       "    </tr>\n",
       "    <tr>\n",
       "      <th>Environmental Sciences</th>\n",
       "      <td>63</td>\n",
       "      <td>88</td>\n",
       "    </tr>\n",
       "    <tr>\n",
       "      <th>Mathematics and Statistics</th>\n",
       "      <td>33</td>\n",
       "      <td>93</td>\n",
       "    </tr>\n",
       "    <tr>\n",
       "      <th>Political Science</th>\n",
       "      <td>111</td>\n",
       "      <td>61</td>\n",
       "    </tr>\n",
       "    <tr>\n",
       "      <th>Social Sciences</th>\n",
       "      <td>78</td>\n",
       "      <td>35</td>\n",
       "    </tr>\n",
       "  </tbody>\n",
       "</table>\n",
       "</div>"
      ],
      "text/plain": [
       "gender                      Female  Male\n",
       "major                                   \n",
       "Biology                        102    66\n",
       "Economics and Finance           53    82\n",
       "Environmental Sciences          63    88\n",
       "Mathematics and Statistics      33    93\n",
       "Political Science              111    61\n",
       "Social Sciences                 78    35"
      ]
     },
     "execution_count": 20,
     "metadata": {},
     "output_type": "execute_result"
    }
   ],
   "source": [
    "n = 865 \n",
    "sample = students.sample(n, random_state = 8) #randomly select 865 students from the data set.\n",
    "\n",
    "observed_frequencies_table = pd.crosstab(sample.major, sample.gender, margins=False)\n",
    "observed_frequencies_table"
   ]
  },
  {
   "cell_type": "code",
   "execution_count": 21,
   "id": "b4425f54",
   "metadata": {},
   "outputs": [
    {
     "data": {
      "text/html": [
       "<div>\n",
       "<style scoped>\n",
       "    .dataframe tbody tr th:only-of-type {\n",
       "        vertical-align: middle;\n",
       "    }\n",
       "\n",
       "    .dataframe tbody tr th {\n",
       "        vertical-align: top;\n",
       "    }\n",
       "\n",
       "    .dataframe thead th {\n",
       "        text-align: right;\n",
       "    }\n",
       "</style>\n",
       "<table border=\"1\" class=\"dataframe\">\n",
       "  <thead>\n",
       "    <tr style=\"text-align: right;\">\n",
       "      <th>gender</th>\n",
       "      <th>Female</th>\n",
       "      <th>Male</th>\n",
       "    </tr>\n",
       "    <tr>\n",
       "      <th>major</th>\n",
       "      <th></th>\n",
       "      <th></th>\n",
       "    </tr>\n",
       "  </thead>\n",
       "  <tbody>\n",
       "    <tr>\n",
       "      <th>Biology</th>\n",
       "      <td>85.456647</td>\n",
       "      <td>82.543353</td>\n",
       "    </tr>\n",
       "    <tr>\n",
       "      <th>Economics and Finance</th>\n",
       "      <td>68.670520</td>\n",
       "      <td>66.329480</td>\n",
       "    </tr>\n",
       "    <tr>\n",
       "      <th>Environmental Sciences</th>\n",
       "      <td>76.809249</td>\n",
       "      <td>74.190751</td>\n",
       "    </tr>\n",
       "    <tr>\n",
       "      <th>Mathematics and Statistics</th>\n",
       "      <td>64.092486</td>\n",
       "      <td>61.907514</td>\n",
       "    </tr>\n",
       "    <tr>\n",
       "      <th>Political Science</th>\n",
       "      <td>87.491329</td>\n",
       "      <td>84.508671</td>\n",
       "    </tr>\n",
       "    <tr>\n",
       "      <th>Social Sciences</th>\n",
       "      <td>57.479769</td>\n",
       "      <td>55.520231</td>\n",
       "    </tr>\n",
       "  </tbody>\n",
       "</table>\n",
       "</div>"
      ],
      "text/plain": [
       "gender                         Female       Male\n",
       "major                                           \n",
       "Biology                     85.456647  82.543353\n",
       "Economics and Finance       68.670520  66.329480\n",
       "Environmental Sciences      76.809249  74.190751\n",
       "Mathematics and Statistics  64.092486  61.907514\n",
       "Political Science           87.491329  84.508671\n",
       "Social Sciences             57.479769  55.520231"
      ]
     },
     "execution_count": 21,
     "metadata": {},
     "output_type": "execute_result"
    }
   ],
   "source": [
    "n = 865\n",
    "\n",
    "observed = pd.crosstab(sample.major, sample.gender, margins=False)\n",
    "expected_frequencies_table = pd.crosstab(sample.major, sample.gender, margins=False)\n",
    "\n",
    "for row in range(0, expected_frequencies_table.shape[0]):\n",
    "    for column in range(0, expected_frequencies_table.shape[1]):\n",
    "        exp = (np.sum(observed_frequencies_table.iloc[row, :]) * np.sum(observed_frequencies_table.iloc[:, column])) / n\n",
    "        expected_frequencies_table.iloc[row, column] = exp\n",
    "        \n",
    "expected_frequencies_table"
   ]
  },
  {
   "cell_type": "markdown",
   "id": "f8f6a969",
   "metadata": {},
   "source": [
    "##### Step 1 : Defining Hypotheses\n",
    "$ H_{0}: μ_{1} = μ_{2} = μ_{3} $ No association between gender and major study subject\n",
    "\n",
    "$ H_{A}: μ_{1} \\neq μ_{2} \\neq μ_{3}  $ There is an association between gender and major study subject"
   ]
  },
  {
   "cell_type": "markdown",
   "id": "c34f571e",
   "metadata": {},
   "source": [
    "##### Step 2 : Assumption Check\n",
    "Since we have not numerical variables, we cannot compare the means of dataset. So, we need to use nonparametric test."
   ]
  },
  {
   "cell_type": "markdown",
   "id": "86b8a1d1",
   "metadata": {},
   "source": [
    "##### Step 3 : Selecting Proper Test\n",
    "We have two categorical variable, so we need to apply Chi-square test of independence."
   ]
  },
  {
   "cell_type": "code",
   "execution_count": 22,
   "id": "45b77b5f",
   "metadata": {
    "scrolled": true
   },
   "outputs": [
    {
     "data": {
      "text/plain": [
       "Chi2ContingencyResult(statistic=77.31526633939146, pvalue=3.056046255717623e-15, dof=5, expected_freq=array([[85.4566474 , 82.5433526 ],\n",
       "       [68.67052023, 66.32947977],\n",
       "       [76.80924855, 74.19075145],\n",
       "       [64.09248555, 61.90751445],\n",
       "       [87.49132948, 84.50867052],\n",
       "       [57.47976879, 55.52023121]]))"
      ]
     },
     "execution_count": 22,
     "metadata": {},
     "output_type": "execute_result"
    }
   ],
   "source": [
    "test_result = chi2_contingency(observed_frequencies_table)\n",
    "\n",
    "test_result"
   ]
  },
  {
   "cell_type": "code",
   "execution_count": 23,
   "id": "cd4c5fd7",
   "metadata": {
    "scrolled": true
   },
   "outputs": [
    {
     "name": "stdout",
     "output_type": "stream",
     "text": [
      "Teststatistic = 77.31527\n",
      "p-value = 3e-15\n"
     ]
    }
   ],
   "source": [
    "\n",
    "print(\"Teststatistic = {}\".format(round(test_result.statistic, 5)))\n",
    "print(\"p-value = {}\".format(round(test_result.pvalue, 15)))"
   ]
  },
  {
   "cell_type": "markdown",
   "id": "d665c9af",
   "metadata": {},
   "source": [
    "##### Step 4: Decision and Conclusion\n",
    "The p-value is smaller than the significance level of 0.05, so we reject $ H_{0} $. The test results are statistically significant at the 5 % level and provide very strong evidence against the null hypothesis. Therefore, at the 5 % significance level, the data provide very strong evidence to conclude that there is an association between gender and the major study subject"
   ]
  },
  {
   "cell_type": "markdown",
   "id": "d9fb3a42",
   "metadata": {},
   "source": [
    "### 3.2.2 Mann-Whitney U Test <a class=\"anchor\" id=\"mann-whitney\"></a>\n",
    "Wilcoxon test, also known as the Wilcoxon rank-sum test or the Mann-Whitney test, is a non-parametric statistical test used to compare the medians of two groups. It is often used as an alternative to the t-test when the assumptions of normality or equal variances are not met.\n",
    "\n",
    "##### Example\n",
    "\n",
    "Researchers want to know if a fuel treatment leads to a change in the average mpg of a car. To test this, they measure the mpg of 5 cars with the fuel treatment and 5 cars without it.\n"
   ]
  },
  {
   "cell_type": "markdown",
   "id": "cfd97cc0",
   "metadata": {},
   "source": [
    "######  Data Preparation \n"
   ]
  },
  {
   "cell_type": "code",
   "execution_count": 24,
   "id": "733f24a1",
   "metadata": {},
   "outputs": [],
   "source": [
    "group_a = [1, 40, 10, 7, 9]\n",
    "group_b = [25, 4, 6, 15, 10]"
   ]
  },
  {
   "cell_type": "markdown",
   "id": "2713ac13",
   "metadata": {},
   "source": [
    "##### Step 1 : Defining Hypotheses\n",
    "$ H_{0}: μ_{1} = μ_{2} $ The mpg is equal between the two groups\n",
    "\n",
    "$ H_{A}: μ_{1} \\neq μ_{2}  $ The mpg is not equal between the two groups"
   ]
  },
  {
   "cell_type": "markdown",
   "id": "0380fb27",
   "metadata": {},
   "source": [
    "##### Step 2 : Assumption Check\n"
   ]
  },
  {
   "cell_type": "code",
   "execution_count": 25,
   "id": "ab4fbe16",
   "metadata": {
    "scrolled": false
   },
   "outputs": [
    {
     "name": "stdout",
     "output_type": "stream",
     "text": [
      "p value:0.0373\n",
      "Reject null hypothesis >> The data is not normally distributed\n",
      "p value:0.5467\n",
      "Fail to reject null hypothesis >> The data is normally distributed\n",
      "p value:0.7141\n",
      "Fail to reject null hypothesis >> The variances of the samples are same.\n"
     ]
    }
   ],
   "source": [
    "check_normality(group_a)\n",
    "check_normality(group_b)\n",
    "check_variance_homogeneity(group_a, group_b)"
   ]
  },
  {
   "cell_type": "markdown",
   "id": "893e9619",
   "metadata": {},
   "source": [
    "##### Step 3 : Selecting Proper Test\n",
    "Since the sample sizes are small and the researchers suspect that the sample distributions are not normally distributed, we need perform a **Mann-Whitney U Test** to determine if there is a statistically significant difference in mpg between the two groups."
   ]
  },
  {
   "cell_type": "code",
   "execution_count": 26,
   "id": "88e8398e",
   "metadata": {
    "scrolled": true
   },
   "outputs": [
    {
     "name": "stdout",
     "output_type": "stream",
     "text": [
      "Statistic: 11.5\n",
      "p-value: 0.9165626446795413\n"
     ]
    }
   ],
   "source": [
    "statistic, p_value = mannwhitneyu(group_a, group_b)\n",
    "print(\"Statistic:\", statistic)\n",
    "print(\"p-value:\", p_value)"
   ]
  },
  {
   "cell_type": "markdown",
   "id": "d440f308",
   "metadata": {},
   "source": [
    "##### Step 4: Decision and Conclusion\n",
    "Since the p-value which is 0.9165626446795413 is greater than the signifigance level which is 0.05, we **fail to reject** the null hypothesis. So, the is no significant evidence to say that the mpg is not equal between the two groups."
   ]
  },
  {
   "cell_type": "markdown",
   "id": "6595a2cc",
   "metadata": {},
   "source": [
    " ### 3.2.3 Kruskal Wallis H Test <a class=\"anchor\" id=\"kruskal\"></a>\n"
   ]
  },
  {
   "cell_type": "markdown",
   "id": "c2b34f8d",
   "metadata": {},
   "source": [
    "Kruskal-Wallis test is a non-parametric test and an alternative to the parametric One-Way Anova Test. The main objective of this test is used to determine whether there is a statistical difference between the medians of at least three independent groups. \n",
    "We can use the below code in order to apply it in Python. \n",
    "\"result = stats.kruskal(data_group1, data_group2, data_group3)\"\n"
   ]
  },
  {
   "cell_type": "markdown",
   "id": "e684d927",
   "metadata": {},
   "source": [
    "## 3.3 Regression <a class=\"anchor\" id=\"regression\"></a>"
   ]
  },
  {
   "cell_type": "markdown",
   "id": "0c0f1530",
   "metadata": {},
   "source": [
    " ### 3.3.1 Linear Regression <a class=\"anchor\" id=\"lr\"></a>\n",
    "\n",
    "Simple linear regression is a technique that we can use to understand the relationship between a single explanatory variable and a single response variable.\n",
    "\n",
    "This technique finds a line that best “fits” the data and takes on the following form:\n",
    "\n",
    "$ ŷ = b_{0} + b_{1}x $\n",
    "\n",
    "where\n",
    "\n",
    "+ ŷ: The estimated response value\n",
    "+ $b_{0}$: The intercept of the regression line\n",
    "+ $b_{1}$: The slope of the regression line"
   ]
  },
  {
   "cell_type": "code",
   "execution_count": 27,
   "id": "03789a6a",
   "metadata": {},
   "outputs": [],
   "source": [
    "##### Dataset Preparation"
   ]
  },
  {
   "cell_type": "code",
   "execution_count": 28,
   "id": "409f5fbb",
   "metadata": {
    "scrolled": false
   },
   "outputs": [
    {
     "data": {
      "text/html": [
       "<div>\n",
       "<style scoped>\n",
       "    .dataframe tbody tr th:only-of-type {\n",
       "        vertical-align: middle;\n",
       "    }\n",
       "\n",
       "    .dataframe tbody tr th {\n",
       "        vertical-align: top;\n",
       "    }\n",
       "\n",
       "    .dataframe thead th {\n",
       "        text-align: right;\n",
       "    }\n",
       "</style>\n",
       "<table border=\"1\" class=\"dataframe\">\n",
       "  <thead>\n",
       "    <tr style=\"text-align: right;\">\n",
       "      <th></th>\n",
       "      <th>hours</th>\n",
       "      <th>score</th>\n",
       "    </tr>\n",
       "  </thead>\n",
       "  <tbody>\n",
       "    <tr>\n",
       "      <th>0</th>\n",
       "      <td>1</td>\n",
       "      <td>64</td>\n",
       "    </tr>\n",
       "    <tr>\n",
       "      <th>1</th>\n",
       "      <td>2</td>\n",
       "      <td>66</td>\n",
       "    </tr>\n",
       "    <tr>\n",
       "      <th>2</th>\n",
       "      <td>4</td>\n",
       "      <td>76</td>\n",
       "    </tr>\n",
       "    <tr>\n",
       "      <th>3</th>\n",
       "      <td>5</td>\n",
       "      <td>73</td>\n",
       "    </tr>\n",
       "    <tr>\n",
       "      <th>4</th>\n",
       "      <td>5</td>\n",
       "      <td>74</td>\n",
       "    </tr>\n",
       "    <tr>\n",
       "      <th>5</th>\n",
       "      <td>6</td>\n",
       "      <td>81</td>\n",
       "    </tr>\n",
       "    <tr>\n",
       "      <th>6</th>\n",
       "      <td>6</td>\n",
       "      <td>83</td>\n",
       "    </tr>\n",
       "    <tr>\n",
       "      <th>7</th>\n",
       "      <td>7</td>\n",
       "      <td>82</td>\n",
       "    </tr>\n",
       "    <tr>\n",
       "      <th>8</th>\n",
       "      <td>8</td>\n",
       "      <td>80</td>\n",
       "    </tr>\n",
       "    <tr>\n",
       "      <th>9</th>\n",
       "      <td>10</td>\n",
       "      <td>88</td>\n",
       "    </tr>\n",
       "    <tr>\n",
       "      <th>10</th>\n",
       "      <td>11</td>\n",
       "      <td>84</td>\n",
       "    </tr>\n",
       "    <tr>\n",
       "      <th>11</th>\n",
       "      <td>11</td>\n",
       "      <td>82</td>\n",
       "    </tr>\n",
       "    <tr>\n",
       "      <th>12</th>\n",
       "      <td>12</td>\n",
       "      <td>91</td>\n",
       "    </tr>\n",
       "    <tr>\n",
       "      <th>13</th>\n",
       "      <td>12</td>\n",
       "      <td>93</td>\n",
       "    </tr>\n",
       "    <tr>\n",
       "      <th>14</th>\n",
       "      <td>14</td>\n",
       "      <td>89</td>\n",
       "    </tr>\n",
       "  </tbody>\n",
       "</table>\n",
       "</div>"
      ],
      "text/plain": [
       "    hours  score\n",
       "0       1     64\n",
       "1       2     66\n",
       "2       4     76\n",
       "3       5     73\n",
       "4       5     74\n",
       "5       6     81\n",
       "6       6     83\n",
       "7       7     82\n",
       "8       8     80\n",
       "9      10     88\n",
       "10     11     84\n",
       "11     11     82\n",
       "12     12     91\n",
       "13     12     93\n",
       "14     14     89"
      ]
     },
     "execution_count": 28,
     "metadata": {},
     "output_type": "execute_result"
    }
   ],
   "source": [
    "#create dataset\n",
    "df = pd.DataFrame({'hours': [1, 2, 4, 5, 5, 6, 6, 7, 8, 10, 11, 11, 12, 12, 14],\n",
    "                   'score': [64, 66, 76, 73, 74, 81, 83, 82, 80, 88, 84, 82, 91, 93, 89]})\n",
    "df"
   ]
  },
  {
   "cell_type": "code",
   "execution_count": 29,
   "id": "21c8cae2",
   "metadata": {
    "scrolled": true
   },
   "outputs": [
    {
     "data": {
      "image/png": "[encoded data removed]",
      "text/plain": [
       "<Figure size 640x480 with 1 Axes>"
      ]
     },
     "metadata": {},
     "output_type": "display_data"
    }
   ],
   "source": [
    "plt.scatter(df.hours, df.score)\n",
    "plt.title('Hours studied vs. Exam Score')\n",
    "plt.xlabel('Hours')\n",
    "plt.ylabel('Score')\n",
    "plt.show()"
   ]
  },
  {
   "cell_type": "code",
   "execution_count": 30,
   "id": "684b656b",
   "metadata": {},
   "outputs": [
    {
     "data": {
      "text/plain": [
       "<Axes: >"
      ]
     },
     "execution_count": 30,
     "metadata": {},
     "output_type": "execute_result"
    },
    {
     "data": {
      "image/png": "[encoded data removed]",
      "text/plain": [
       "<Figure size 640x480 with 1 Axes>"
      ]
     },
     "metadata": {},
     "output_type": "display_data"
    }
   ],
   "source": [
    "df.boxplot(column=['score'])\n"
   ]
  },
  {
   "cell_type": "code",
   "execution_count": 31,
   "id": "a965a8bf",
   "metadata": {
    "scrolled": true
   },
   "outputs": [
    {
     "name": "stdout",
     "output_type": "stream",
     "text": [
      "                            OLS Regression Results                            \n",
      "==============================================================================\n",
      "Dep. Variable:                  score   R-squared:                       0.831\n",
      "Model:                            OLS   Adj. R-squared:                  0.818\n",
      "Method:                 Least Squares   F-statistic:                     63.91\n",
      "Date:                Thu, 25 Apr 2024   Prob (F-statistic):           2.25e-06\n",
      "Time:                        15:05:42   Log-Likelihood:                -39.594\n",
      "No. Observations:                  15   AIC:                             83.19\n",
      "Df Residuals:                      13   BIC:                             84.60\n",
      "Df Model:                           1                                         \n",
      "Covariance Type:            nonrobust                                         \n",
      "==============================================================================\n",
      "                 coef    std err          t      P>|t|      [0.025      0.975]\n",
      "------------------------------------------------------------------------------\n",
      "const         65.3340      2.106     31.023      0.000      60.784      69.884\n",
      "hours          1.9824      0.248      7.995      0.000       1.447       2.518\n",
      "==============================================================================\n",
      "Omnibus:                        4.351   Durbin-Watson:                   1.677\n",
      "Prob(Omnibus):                  0.114   Jarque-Bera (JB):                1.329\n",
      "Skew:                           0.092   Prob(JB):                        0.515\n",
      "Kurtosis:                       1.554   Cond. No.                         19.2\n",
      "==============================================================================\n",
      "\n",
      "Notes:\n",
      "[1] Standard Errors assume that the covariance matrix of the errors is correctly specified.\n"
     ]
    },
    {
     "name": "stderr",
     "output_type": "stream",
     "text": [
      "C:\\Users\\Lenovo\\anaconda3\\Lib\\site-packages\\scipy\\stats\\_stats_py.py:1806: UserWarning: kurtosistest only valid for n>=20 ... continuing anyway, n=15\n",
      "  warnings.warn(\"kurtosistest only valid for n>=20 ... continuing \"\n"
     ]
    }
   ],
   "source": [
    "#define response variable\n",
    "y = df['score']\n",
    "\n",
    "#define explanatory variable\n",
    "x = df[['hours']]\n",
    "\n",
    "#add constant to predictor variables\n",
    "x = sm.add_constant(x)\n",
    "\n",
    "#fit linear regression model\n",
    "model = sm.OLS(y, x).fit()\n",
    "\n",
    "#view model summary\n",
    "print(model.summary())"
   ]
  },
  {
   "cell_type": "markdown",
   "id": "25bd5c95",
   "metadata": {},
   "source": [
    "From the model summary we can see that the fitted regression equation is:\n",
    "\n",
    "**$Score = 65.334 + 1.9824*(hours)$**\n",
    "\n",
    "+ **P>|t|:** This is the p-value associated with the model coefficients. Since the p-value for hours (0.000) is significantly less than .05, we can say that there is a statistically significant association between hours and score.\n",
    "+ **R-squared:** This number tells us the percentage of the variation in the exam scores can be explained by the number of hours studied. In general, the larger the R-squared value of a regression model the better the explanatory variables are able to predict the value of the response variable. In this case, 83.1% of the variation in scores can be explained by hours studied.\n",
    "+ **F-statistic & p-value:** The F-statistic (63.91) and the corresponding p-value (2.25e-06) tell us the overall significance of the regression model, i.e. whether explanatory variables in the model are useful for explaining the variation in the response variable. Since the p-value in this example is less than .05, our model is statistically significant and hours is deemed to be useful for explaining the variation in score."
   ]
  },
  {
   "cell_type": "code",
   "execution_count": 32,
   "id": "ec374147",
   "metadata": {},
   "outputs": [
    {
     "data": {
      "image/png": "[encoded data removed]",
      "text/plain": [
       "<Figure size 640x480 with 1 Axes>"
      ]
     },
     "metadata": {},
     "output_type": "display_data"
    }
   ],
   "source": [
    "plt.scatter(df.hours, df.score)\n",
    "yhat =1.9824*x + 65.3340 \n",
    "fig = plt.plot(x,yhat, lw=4, c='orange', label = 'regression line')\n",
    "plt.xlabel('Hours', fontsize =20)\n",
    "plt.ylabel('Score', fontsize =20)\n",
    "plt.show()"
   ]
  },
  {
   "cell_type": "markdown",
   "id": "9323d549",
   "metadata": {},
   "source": [
    " ### 3.3.2 Multiple Linear Regression <a class=\"anchor\" id=\"mlr\"></a>\n",
    "\n",
    "Multiple linear regression is a regression model that estimates the relationship between a quantitative dependent variable and two or more independent variables using a straight line.\n",
    "\n",
    "We will perform multiple linear regression for a fictitious economy, where the index_price is the dependent variable, and the 2 independent/input variables are:\n",
    "\n",
    "+ interest_rate\n",
    "+ unemployment_rate"
   ]
  },
  {
   "cell_type": "code",
   "execution_count": 33,
   "id": "d93585e0",
   "metadata": {},
   "outputs": [
    {
     "name": "stdout",
     "output_type": "stream",
     "text": [
      "    year  month  interest_rate  unemployment_rate  index_price\n",
      "0   2017     12           2.75                5.3         1464\n",
      "1   2017     11           2.50                5.3         1394\n",
      "2   2017     10           2.50                5.3         1357\n",
      "3   2017      9           2.50                5.3         1293\n",
      "4   2017      8           2.50                5.4         1256\n",
      "5   2017      7           2.50                5.6         1254\n",
      "6   2017      6           2.50                5.5         1234\n",
      "7   2017      5           2.25                5.5         1195\n",
      "8   2017      4           2.25                5.5         1159\n",
      "9   2017      3           2.25                5.6         1167\n",
      "10  2017      2           2.00                5.7         1130\n",
      "11  2017      1           2.00                5.9         1075\n",
      "12  2016     12           2.00                6.0         1047\n",
      "13  2016     11           1.75                5.9          965\n",
      "14  2016     10           1.75                5.8          943\n",
      "15  2016      9           1.75                6.1          958\n",
      "16  2016      8           1.75                6.2          971\n",
      "17  2016      7           1.75                6.1          949\n",
      "18  2016      6           1.75                6.1          884\n",
      "19  2016      5           1.75                6.1          866\n",
      "20  2016      4           1.75                5.9          876\n",
      "21  2016      3           1.75                6.2          822\n",
      "22  2016      2           1.75                6.2          704\n",
      "23  2016      1           1.75                6.1          719\n"
     ]
    }
   ],
   "source": [
    "\n",
    "data = {'year': [2017,2017,2017,2017,2017,2017,2017,2017,2017,2017,2017,2017,2016,2016,2016,2016,2016,2016,2016,2016,2016,2016,2016,2016],\n",
    "        'month': [12,11,10,9,8,7,6,5,4,3,2,1,12,11,10,9,8,7,6,5,4,3,2,1],\n",
    "        'interest_rate': [2.75,2.5,2.5,2.5,2.5,2.5,2.5,2.25,2.25,2.25,2,2,2,1.75,1.75,1.75,1.75,1.75,1.75,1.75,1.75,1.75,1.75,1.75],\n",
    "        'unemployment_rate': [5.3,5.3,5.3,5.3,5.4,5.6,5.5,5.5,5.5,5.6,5.7,5.9,6,5.9,5.8,6.1,6.2,6.1,6.1,6.1,5.9,6.2,6.2,6.1],\n",
    "        'index_price': [1464,1394,1357,1293,1256,1254,1234,1195,1159,1167,1130,1075,1047,965,943,958,971,949,884,866,876,822,704,719]        \n",
    "        }\n",
    "\n",
    "df = pd.DataFrame(data) \n",
    "\n",
    "print(df)"
   ]
  },
  {
   "cell_type": "code",
   "execution_count": 34,
   "id": "1970701b",
   "metadata": {},
   "outputs": [
    {
     "data": {
      "image/png": "[encoded data removed]",
      "text/plain": [
       "<Figure size 640x480 with 1 Axes>"
      ]
     },
     "metadata": {},
     "output_type": "display_data"
    }
   ],
   "source": [
    "\n",
    "plt.scatter(df['interest_rate'], df['index_price'], color='red')\n",
    "plt.title('Index Price Vs Interest Rate', fontsize=14)\n",
    "plt.xlabel('Interest Rate', fontsize=14)\n",
    "plt.ylabel('Index Price', fontsize=14)\n",
    "plt.show()"
   ]
  },
  {
   "cell_type": "code",
   "execution_count": 35,
   "id": "445ccbbd",
   "metadata": {},
   "outputs": [
    {
     "data": {
      "image/png": "[encoded data removed]",
      "text/plain": [
       "<Figure size 640x480 with 1 Axes>"
      ]
     },
     "metadata": {},
     "output_type": "display_data"
    }
   ],
   "source": [
    "\n",
    "plt.scatter(df['unemployment_rate'], df['index_price'], color='green')\n",
    "plt.title('Index Price Vs Unemployment Rate', fontsize=14)\n",
    "plt.xlabel('Unemployment Rate', fontsize=14)\n",
    "plt.ylabel('Index Price', fontsize=14)\n",
    "plt.show()"
   ]
  },
  {
   "cell_type": "code",
   "execution_count": 36,
   "id": "c28b8f09",
   "metadata": {},
   "outputs": [
    {
     "name": "stdout",
     "output_type": "stream",
     "text": [
      "Intercept: \n",
      " 1798.403977625855\n",
      "Coefficients: \n",
      " [ 345.54008701 -250.14657137]\n",
      "                            OLS Regression Results                            \n",
      "==============================================================================\n",
      "Dep. Variable:            index_price   R-squared:                       0.898\n",
      "Model:                            OLS   Adj. R-squared:                  0.888\n",
      "Method:                 Least Squares   F-statistic:                     92.07\n",
      "Date:                Thu, 25 Apr 2024   Prob (F-statistic):           4.04e-11\n",
      "Time:                        15:05:45   Log-Likelihood:                -134.61\n",
      "No. Observations:                  24   AIC:                             275.2\n",
      "Df Residuals:                      21   BIC:                             278.8\n",
      "Df Model:                           2                                         \n",
      "Covariance Type:            nonrobust                                         \n",
      "=====================================================================================\n",
      "                        coef    std err          t      P>|t|      [0.025      0.975]\n",
      "-------------------------------------------------------------------------------------\n",
      "const              1798.4040    899.248      2.000      0.059     -71.685    3668.493\n",
      "interest_rate       345.5401    111.367      3.103      0.005     113.940     577.140\n",
      "unemployment_rate  -250.1466    117.950     -2.121      0.046    -495.437      -4.856\n",
      "==============================================================================\n",
      "Omnibus:                        2.691   Durbin-Watson:                   0.530\n",
      "Prob(Omnibus):                  0.260   Jarque-Bera (JB):                1.551\n",
      "Skew:                          -0.612   Prob(JB):                        0.461\n",
      "Kurtosis:                       3.226   Cond. No.                         394.\n",
      "==============================================================================\n",
      "\n",
      "Notes:\n",
      "[1] Standard Errors assume that the covariance matrix of the errors is correctly specified.\n"
     ]
    }
   ],
   "source": [
    "\n",
    "x = df[['interest_rate','unemployment_rate']]\n",
    "y = df['index_price']\n",
    " \n",
    "# with sklearn\n",
    "regr = linear_model.LinearRegression()\n",
    "regr.fit(x, y)\n",
    "\n",
    "print('Intercept: \\n', regr.intercept_)\n",
    "print('Coefficients: \\n', regr.coef_)\n",
    "\n",
    "# with statsmodels\n",
    "x = sm.add_constant(x) # adding a constant\n",
    " \n",
    "model = sm.OLS(y, x).fit()\n",
    "predictions = model.predict(x) \n",
    " \n",
    "print_model = model.summary()\n",
    "print(print_model)"
   ]
  },
  {
   "cell_type": "markdown",
   "id": "49eb0140",
   "metadata": {},
   "source": [
    "This output is from a multiple linear regression model that predicts the dependent variable \"index_price\" based on two independent variables: \"interest_rate\" and \"unemployment_rate.\" \n",
    "\n",
    "Intercept (const):\n",
    "\n",
    "The intercept is the value of the dependent variable when all independent variables are set to zero.\n",
    "In this case, when both interest_rate and unemployment_rate are zero, the predicted value of \"index_price\" is 1798.4040.\n",
    "Coefficients:\n",
    "\n",
    "\"interest_rate\" coefficient is 345.5401, meaning that for a one-unit increase in the \"interest_rate,\" the predicted \"index_price\" increases by 345.5401 units, assuming other variables are held constant.\n",
    "\"unemployment_rate\" coefficient is -250.1466, indicating that for a one-unit increase in the \"unemployment_rate,\" the predicted \"index_price\" decreases by 250.1466 units, assuming other variables are held constant.\n",
    "\n",
    "R-squared:\n",
    "R-squared is a measure of how well the independent variables explain the variability in the dependent variable.\n",
    "In this case, R-squared is 0.898, suggesting that approximately 89.8% of the variability in \"index_price\" is explained by the independent variables.\n",
    "\n",
    "F-statistic:\n",
    "The F-statistic tests the overall significance of the regression model.\n",
    "A higher F-statistic (92.07 in this case) with a low probability (Prob (F-statistic)) suggests that the model is statistically significant.\n",
    "\n",
    "P-values (P>|t|) for Coefficients:\n",
    "These p-values test the null hypothesis that each coefficient is equal to zero (i.e., the corresponding variable has no effect on the dependent variable).\n",
    "In this case, both \"interest_rate\" and \"unemployment_rate\" have p-values less than 0.05, indicating that they are statistically significant in predicting \"index_price.\"\n",
    "Other Information:\n",
    "\n",
    "In summary, the model suggests that both interest_rate and unemployment_rate are statistically significant predictors of \"index_price,\" and the model as a whole is significant in explaining the variability in the dependent variable."
   ]
  },
  {
   "cell_type": "markdown",
   "id": "0961772f",
   "metadata": {},
   "source": [
    "# References\n",
    "+ https://www.geo.fu-berlin.de/en/v/soga-py/Basics-of-statistics/Hypothesis-Tests/Chi-Square-Tests/Chi-Square-Independence-Test/index.html\n",
    "+ https://datatofish.com/multiple-linear-regression-python/\n",
    "+ https://medium.com/@isguzarsezgin/anova-analysis-of-variance-test-explanation-and-an-example-python-af801c64d414\n",
    "+ https://www.kaggle.com/code/hamelg/python-for-data-25-chi-squared-tests#Next-Lesson:-Python-for-Data-26:-ANOVA\n",
    "+ https://www.colorado.edu/amath/sites/default/files/attached-files/lesson9_hyptests.pdf\n",
    "+ https://www.sagepub.com/sites/default/files/upm-binaries/40007_Chapter8.pdf\n",
    "+ https://plainenglish.io/blog/statistical-tests-with-python-880251e9b572\n",
    "+ https://www.analyticsvidhya.com/blog/2021/07/t-test-performing-hypothesis-testing-with-python/"
   ]
  },
  {
   "cell_type": "code",
   "execution_count": null,
   "id": "c823540a",
   "metadata": {},
   "outputs": [],
   "source": []
  }
 ],
 "metadata": {
  "kernelspec": {
   "display_name": "Python 3 (ipykernel)",
   "language": "python",
   "name": "python3"
  },
  "language_info": {
   "codemirror_mode": {
    "name": "ipython",
    "version": 3
   },
   "file_extension": ".py",
   "mimetype": "text/x-python",
   "name": "python",
   "nbconvert_exporter": "python",
   "pygments_lexer": "ipython3",
   "version": "3.11.5"
  }
 },
 "nbformat": 4,
 "nbformat_minor": 5
}
